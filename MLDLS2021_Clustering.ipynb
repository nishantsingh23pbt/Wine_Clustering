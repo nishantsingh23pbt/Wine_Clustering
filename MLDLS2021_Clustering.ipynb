{
  "nbformat": 4,
  "nbformat_minor": 0,
  "metadata": {
    "colab": {
      "name": "MLDLS2021_Clustering.ipynb",
      "provenance": [],
      "authorship_tag": "ABX9TyPCF5HOPqQ4cgBh4ZSil9cN",
      "include_colab_link": true
    },
    "kernelspec": {
      "name": "python3",
      "display_name": "Python 3"
    },
    "language_info": {
      "name": "python"
    }
  },
  "cells": [
    {
      "cell_type": "markdown",
      "metadata": {
        "id": "view-in-github",
        "colab_type": "text"
      },
      "source": [
        "<a href=\"https://colab.research.google.com/github/nishantsingh23pbt/Wine_Clustering/blob/main/MLDLS2021_Clustering.ipynb\" target=\"_parent\"><img src=\"https://colab.research.google.com/assets/colab-badge.svg\" alt=\"Open In Colab\"/></a>"
      ]
    },
    {
      "cell_type": "code",
      "metadata": {
        "id": "ryn-6_UaSMlE"
      },
      "source": [
        "#importing libraries\n",
        "import pandas as pd\n",
        "import numpy as np\n",
        "import matplotlib.pyplot as plt"
      ],
      "execution_count": 26,
      "outputs": []
    },
    {
      "cell_type": "code",
      "metadata": {
        "colab": {
          "base_uri": "https://localhost:8080/",
          "height": 223
        },
        "id": "A_pqHYOeTXPW",
        "outputId": "dc0de05b-fdac-47af-d536-fd7a2085f7d1"
      },
      "source": [
        "dataset = pd.read_csv(\"wine-clustering.csv\")\n",
        "dataset.head()"
      ],
      "execution_count": 27,
      "outputs": [
        {
          "output_type": "execute_result",
          "data": {
            "text/html": [
              "<div>\n",
              "<style scoped>\n",
              "    .dataframe tbody tr th:only-of-type {\n",
              "        vertical-align: middle;\n",
              "    }\n",
              "\n",
              "    .dataframe tbody tr th {\n",
              "        vertical-align: top;\n",
              "    }\n",
              "\n",
              "    .dataframe thead th {\n",
              "        text-align: right;\n",
              "    }\n",
              "</style>\n",
              "<table border=\"1\" class=\"dataframe\">\n",
              "  <thead>\n",
              "    <tr style=\"text-align: right;\">\n",
              "      <th></th>\n",
              "      <th>Alcohol</th>\n",
              "      <th>Malic_Acid</th>\n",
              "      <th>Ash</th>\n",
              "      <th>Ash_Alcanity</th>\n",
              "      <th>Magnesium</th>\n",
              "      <th>Total_Phenols</th>\n",
              "      <th>Flavanoids</th>\n",
              "      <th>Nonflavanoid_Phenols</th>\n",
              "      <th>Proanthocyanins</th>\n",
              "      <th>Color_Intensity</th>\n",
              "      <th>Hue</th>\n",
              "      <th>OD280</th>\n",
              "      <th>Proline</th>\n",
              "    </tr>\n",
              "  </thead>\n",
              "  <tbody>\n",
              "    <tr>\n",
              "      <th>0</th>\n",
              "      <td>14.23</td>\n",
              "      <td>1.71</td>\n",
              "      <td>2.43</td>\n",
              "      <td>15.6</td>\n",
              "      <td>127</td>\n",
              "      <td>2.80</td>\n",
              "      <td>3.06</td>\n",
              "      <td>0.28</td>\n",
              "      <td>2.29</td>\n",
              "      <td>5.64</td>\n",
              "      <td>1.04</td>\n",
              "      <td>3.92</td>\n",
              "      <td>1065</td>\n",
              "    </tr>\n",
              "    <tr>\n",
              "      <th>1</th>\n",
              "      <td>13.20</td>\n",
              "      <td>1.78</td>\n",
              "      <td>2.14</td>\n",
              "      <td>11.2</td>\n",
              "      <td>100</td>\n",
              "      <td>2.65</td>\n",
              "      <td>2.76</td>\n",
              "      <td>0.26</td>\n",
              "      <td>1.28</td>\n",
              "      <td>4.38</td>\n",
              "      <td>1.05</td>\n",
              "      <td>3.40</td>\n",
              "      <td>1050</td>\n",
              "    </tr>\n",
              "    <tr>\n",
              "      <th>2</th>\n",
              "      <td>13.16</td>\n",
              "      <td>2.36</td>\n",
              "      <td>2.67</td>\n",
              "      <td>18.6</td>\n",
              "      <td>101</td>\n",
              "      <td>2.80</td>\n",
              "      <td>3.24</td>\n",
              "      <td>0.30</td>\n",
              "      <td>2.81</td>\n",
              "      <td>5.68</td>\n",
              "      <td>1.03</td>\n",
              "      <td>3.17</td>\n",
              "      <td>1185</td>\n",
              "    </tr>\n",
              "    <tr>\n",
              "      <th>3</th>\n",
              "      <td>14.37</td>\n",
              "      <td>1.95</td>\n",
              "      <td>2.50</td>\n",
              "      <td>16.8</td>\n",
              "      <td>113</td>\n",
              "      <td>3.85</td>\n",
              "      <td>3.49</td>\n",
              "      <td>0.24</td>\n",
              "      <td>2.18</td>\n",
              "      <td>7.80</td>\n",
              "      <td>0.86</td>\n",
              "      <td>3.45</td>\n",
              "      <td>1480</td>\n",
              "    </tr>\n",
              "    <tr>\n",
              "      <th>4</th>\n",
              "      <td>13.24</td>\n",
              "      <td>2.59</td>\n",
              "      <td>2.87</td>\n",
              "      <td>21.0</td>\n",
              "      <td>118</td>\n",
              "      <td>2.80</td>\n",
              "      <td>2.69</td>\n",
              "      <td>0.39</td>\n",
              "      <td>1.82</td>\n",
              "      <td>4.32</td>\n",
              "      <td>1.04</td>\n",
              "      <td>2.93</td>\n",
              "      <td>735</td>\n",
              "    </tr>\n",
              "  </tbody>\n",
              "</table>\n",
              "</div>"
            ],
            "text/plain": [
              "   Alcohol  Malic_Acid   Ash  ...   Hue  OD280  Proline\n",
              "0    14.23        1.71  2.43  ...  1.04   3.92     1065\n",
              "1    13.20        1.78  2.14  ...  1.05   3.40     1050\n",
              "2    13.16        2.36  2.67  ...  1.03   3.17     1185\n",
              "3    14.37        1.95  2.50  ...  0.86   3.45     1480\n",
              "4    13.24        2.59  2.87  ...  1.04   2.93      735\n",
              "\n",
              "[5 rows x 13 columns]"
            ]
          },
          "metadata": {
            "tags": []
          },
          "execution_count": 27
        }
      ]
    },
    {
      "cell_type": "code",
      "metadata": {
        "colab": {
          "base_uri": "https://localhost:8080/",
          "height": 417
        },
        "id": "O1_7OcHATze0",
        "outputId": "f732d659-d137-44c1-8ece-9ccc548d748b"
      },
      "source": [
        "X = dataset.iloc[:,:].values\n",
        "x1= dataset.iloc[:,0].values\n",
        "x2= dataset.iloc[:,1].values\n",
        "df=pd.DataFrame(x1,x2)\n",
        "df"
      ],
      "execution_count": 29,
      "outputs": [
        {
          "output_type": "execute_result",
          "data": {
            "text/html": [
              "<div>\n",
              "<style scoped>\n",
              "    .dataframe tbody tr th:only-of-type {\n",
              "        vertical-align: middle;\n",
              "    }\n",
              "\n",
              "    .dataframe tbody tr th {\n",
              "        vertical-align: top;\n",
              "    }\n",
              "\n",
              "    .dataframe thead th {\n",
              "        text-align: right;\n",
              "    }\n",
              "</style>\n",
              "<table border=\"1\" class=\"dataframe\">\n",
              "  <thead>\n",
              "    <tr style=\"text-align: right;\">\n",
              "      <th></th>\n",
              "      <th>0</th>\n",
              "    </tr>\n",
              "  </thead>\n",
              "  <tbody>\n",
              "    <tr>\n",
              "      <th>1.71</th>\n",
              "      <td>14.23</td>\n",
              "    </tr>\n",
              "    <tr>\n",
              "      <th>1.78</th>\n",
              "      <td>13.20</td>\n",
              "    </tr>\n",
              "    <tr>\n",
              "      <th>2.36</th>\n",
              "      <td>13.16</td>\n",
              "    </tr>\n",
              "    <tr>\n",
              "      <th>1.95</th>\n",
              "      <td>14.37</td>\n",
              "    </tr>\n",
              "    <tr>\n",
              "      <th>2.59</th>\n",
              "      <td>13.24</td>\n",
              "    </tr>\n",
              "    <tr>\n",
              "      <th>...</th>\n",
              "      <td>...</td>\n",
              "    </tr>\n",
              "    <tr>\n",
              "      <th>5.65</th>\n",
              "      <td>13.71</td>\n",
              "    </tr>\n",
              "    <tr>\n",
              "      <th>3.91</th>\n",
              "      <td>13.40</td>\n",
              "    </tr>\n",
              "    <tr>\n",
              "      <th>4.28</th>\n",
              "      <td>13.27</td>\n",
              "    </tr>\n",
              "    <tr>\n",
              "      <th>2.59</th>\n",
              "      <td>13.17</td>\n",
              "    </tr>\n",
              "    <tr>\n",
              "      <th>4.10</th>\n",
              "      <td>14.13</td>\n",
              "    </tr>\n",
              "  </tbody>\n",
              "</table>\n",
              "<p>178 rows × 1 columns</p>\n",
              "</div>"
            ],
            "text/plain": [
              "          0\n",
              "1.71  14.23\n",
              "1.78  13.20\n",
              "2.36  13.16\n",
              "1.95  14.37\n",
              "2.59  13.24\n",
              "...     ...\n",
              "5.65  13.71\n",
              "3.91  13.40\n",
              "4.28  13.27\n",
              "2.59  13.17\n",
              "4.10  14.13\n",
              "\n",
              "[178 rows x 1 columns]"
            ]
          },
          "metadata": {
            "tags": []
          },
          "execution_count": 29
        }
      ]
    },
    {
      "cell_type": "code",
      "metadata": {
        "colab": {
          "base_uri": "https://localhost:8080/",
          "height": 286
        },
        "id": "1Xmwspz1T9Zo",
        "outputId": "8c3033e0-088e-48ba-8efa-cda0d59e25d3"
      },
      "source": [
        "plt.scatter(x1, x2)\n",
        "plt.plot()"
      ],
      "execution_count": 30,
      "outputs": [
        {
          "output_type": "execute_result",
          "data": {
            "text/plain": [
              "[]"
            ]
          },
          "metadata": {
            "tags": []
          },
          "execution_count": 30
        },
        {
          "output_type": "display_data",
          "data": {
            "image/png": "[encoded data removed]",
            "text/plain": [
              "<Figure size 432x288 with 1 Axes>"
            ]
          },
          "metadata": {
            "tags": [],
            "needs_background": "light"
          }
        }
      ]
    },
    {
      "cell_type": "code",
      "metadata": {
        "colab": {
          "base_uri": "https://localhost:8080/"
        },
        "id": "hvhoDUKMUg_B",
        "outputId": "33717f6a-84bc-4cfe-86a9-783dd92eed80"
      },
      "source": [
        "from sklearn.cluster import KMeans\n",
        "# Number of clusters\n",
        "kmeans = KMeans(n_clusters=3)\n",
        "# Getting the cluster labels\n",
        "labels = kmeans.fit_predict(df)\n",
        "df[\"KMeans\"]= labels\n",
        "# Centroid values\n",
        "centroids = kmeans.cluster_centers_\n",
        "print(\"Centroid values\")\n",
        "print(centroids) "
      ],
      "execution_count": 31,
      "outputs": [
        {
          "output_type": "stream",
          "text": [
            "Centroid values\n",
            "[[13.89918033]\n",
            " [13.01821429]\n",
            " [12.08590164]]\n"
          ],
          "name": "stdout"
        }
      ]
    },
    {
      "cell_type": "code",
      "metadata": {
        "colab": {
          "base_uri": "https://localhost:8080/"
        },
        "id": "EgydM-_gUv9U",
        "outputId": "ef832a2d-644e-42a8-a026-dff9f48d558f"
      },
      "source": [
        "print(df)"
      ],
      "execution_count": 24,
      "outputs": [
        {
          "output_type": "stream",
          "text": [
            "          0  KMeans\n",
            "1.71  14.23       1\n",
            "1.78  13.20       0\n",
            "2.36  13.16       0\n",
            "1.95  14.37       1\n",
            "2.59  13.24       0\n",
            "...     ...     ...\n",
            "5.65  13.71       1\n",
            "3.91  13.40       0\n",
            "4.28  13.27       0\n",
            "2.59  13.17       0\n",
            "4.10  14.13       1\n",
            "\n",
            "[178 rows x 2 columns]\n"
          ],
          "name": "stdout"
        }
      ]
    },
    {
      "cell_type": "code",
      "metadata": {
        "colab": {
          "base_uri": "https://localhost:8080/"
        },
        "id": "Okdz3kDeU5g-",
        "outputId": "01ea3cd4-c2a3-4f03-c3b4-1c9237d24b0b"
      },
      "source": [
        "len(X)"
      ],
      "execution_count": 32,
      "outputs": [
        {
          "output_type": "execute_result",
          "data": {
            "text/plain": [
              "178"
            ]
          },
          "metadata": {
            "tags": []
          },
          "execution_count": 32
        }
      ]
    },
    {
      "cell_type": "code",
      "metadata": {
        "colab": {
          "base_uri": "https://localhost:8080/",
          "height": 267
        },
        "id": "gI2-UDSpU7A0",
        "outputId": "52445943-b439-4f43-fa79-25165268d402"
      },
      "source": [
        "k=3\n",
        "#plotting the clusters\n",
        "colors = ['r', 'g', 'b']\n",
        "fig, ax = plt.subplots()\n",
        "for i in range(k):\n",
        "        points = np.array([X[j] for j in range(len(X)) if labels[j] == i])\n",
        "        ax.scatter(points[:, 0], points[:, 1], c=colors[i])\n"
      ],
      "execution_count": 38,
      "outputs": [
        {
          "output_type": "display_data",
          "data": {
            "image/png": "[encoded data removed]",
            "text/plain": [
              "<Figure size 432x288 with 1 Axes>"
            ]
          },
          "metadata": {
            "tags": [],
            "needs_background": "light"
          }
        }
      ]
    }
  ]
}